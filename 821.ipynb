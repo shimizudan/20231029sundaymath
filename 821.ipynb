{
 "cells": [
  {
   "cell_type": "markdown",
   "metadata": {},
   "source": [
    "# 標本標準偏差について\n",
    "\n",
    "## 準備\n",
    "\n",
    "1,2,3,4,5の中から$n$個の数字を取り出す。取り出した数字を順に$X_1$，$X_2$，$\\cdots$，$X_n$とすると$X_i$は確率変数となる。\n",
    "\n",
    "$X_i$はi.i.d（独立同分布）で\n",
    "\n",
    "確率分布は\n",
    "\n",
    "|$X_i$|1|2|3|4|5|計|\n",
    "|:---:|:---:|:---:|:---:|:---:|:---:|:---:|\n",
    "|$P$|1/5|1/5|1/5|1/5|1/5|1|\n",
    "\n",
    "平均は\n",
    "\n",
    "$E(X_i)=\\dfrac{1+2+3+4+5}5=3$\n",
    "\n",
    "分散は\n",
    "\n",
    "$V(X_i)=\\dfrac{4+1+0+1+4}5=2$\n",
    "\n",
    "標準偏差は\n",
    "\n",
    "$\\sigma(X_i)=\\sqrt{2}=1.4142135623730951...$\n",
    "\n",
    "## 標本平均\n",
    "\n",
    "$\\displaystyle{\\overline X=\\dfrac1n\\sum_{k=1}^nX_k}$\n",
    "\n",
    "- 標本平均の平均$E(\\overline X)=\\mu = 3$ \n",
    "- 標本平均$\\overline X$は不偏推定量である。（一致推定量でもある）\n",
    "- 標本平均の分散$V(\\overline X)=\\dfrac{\\sigma^2}{n}=\\dfrac2n$\n",
    "- 標本平均の標準偏差$\\sigma(\\overline X)=\\dfrac{\\sigma}{\\sqrt n}=\\sqrt{\\dfrac2n}$\n",
    "\n",
    "## 標本分散\n",
    "\n",
    "\n",
    "$\\displaystyle{S^2=\\dfrac1n\\sum_{k=1}^n\\left(X_k-\\overline X\\right)^2}$\n",
    "\n",
    "\n",
    "- 標本分散の平均$E(S^2)=\\dfrac{n-1}{n}\\sigma^2=\\dfrac{2(n-1)}{n}$ \n",
    "- $\\displaystyle{\\lim_{n\\to\\infty}E(S^2)=\\sigma^2}$ \n",
    "- 標本分散$S^2$は不偏推定量ではない。一致推定量である。\n",
    "- 標本分散の平均の平方根 $\\sqrt{E(S^2)}=\\sqrt{\\dfrac{n-1}{n}}\\sigma=\\sqrt{\\dfrac{2(n-1)}{n}}$ \n"
   ]
  },
  {
   "cell_type": "markdown",
   "metadata": {},
   "source": [
    "\n",
    " 1,2,3,4,5の中から$n$個の数字を取り出す。\n",
    " \n",
    " 取り出した数字を順に$X_1$，$X_2$，$\\cdots$，$X_n$とすると$X_i$は確率変数となる。\n",
    "\n",
    " $X_1$，$X_2$，$\\cdots$，$X_n$はi.i.d（独立同分布）で\n",
    " \n",
    " 確率分布は\n",
    "\n",
    "\n",
    "\n",
    "\n",
    " |$X_i$|1|2|3|4|5|計|\n",
    " |:---:|:---:|:---:|:---:|:---:|:---:|:---:|\n",
    " |$P$|1/5|1/5|1/5|1/5|1/5|1|\n",
    " \n",
    "\n",
    "平均は$E(X_i)=3$，\n",
    "分散は$V(X_i)=2$，\n",
    "標準偏差は$\\sigma(X_i)=\\sqrt{2}=1.41...$\n",
    "\n",
    "標本平均は$\\displaystyle{\\overline X=\\dfrac1n\\sum_{k=1}^nX_k}$\n",
    "\n",
    "標本分散は$\\displaystyle{S^2=\\dfrac1n\\sum_{k=1}^n\\left(X_k-\\overline X\\right)^2=\\dfrac1n\\sum_{k=1}^n{X_k}^2-\\overline X^2}$\n",
    "\n",
    "標本標準偏差は$\\displaystyle{S=\\sqrt{\\dfrac1n\\sum_{k=1}^n\\left(X_k-\\overline X\\right)^2}}$"
   ]
  },
  {
   "cell_type": "code",
   "execution_count": 2,
   "metadata": {},
   "outputs": [
    {
     "name": "stdout",
     "output_type": "stream",
     "text": [
      "0.0\n",
      "0.8\n",
      "1.051142216570546\n",
      "1.160727480964246\n",
      "1.220082779063528\n",
      "1.2570091145131863\n",
      "1.28214792720429\n"
     ]
    },
    {
     "name": "stdout",
     "output_type": "stream",
     "text": [
      "1.3003528582802548\n"
     ]
    },
    {
     "name": "stdout",
     "output_type": "stream",
     "text": [
      "1.3141406190845255\n"
     ]
    },
    {
     "name": "stdout",
     "output_type": "stream",
     "text": [
      "1.3249438223097685\n"
     ]
    }
   ],
   "source": [
    "using Combinatorics #順列・組み合わせのパッケージ\n",
    "using Distributions #統計のパッケージ\n",
    "\n",
    "function  BiasedSampleVar(m,n)\n",
    "    A = [i for i=1:m]\n",
    "    X = repeat(A,inner=[n])\n",
    "    Y = collect(multiset_permutations(X, n))\n",
    "    L = length(Y)\n",
    "    X̂ = [sum(Y[i])/n for i=1:L] #それそれの標本平均\n",
    "    Z=[]\n",
    "    for i=1:L\n",
    "         append!(Z,sum((Y[i][j]- X̂[i])^2/n for j=1:n)) # S²\n",
    "    end\n",
    "    return Z \n",
    "end\n",
    "\n",
    "for i=1:10\n",
    "    map(sqrt,BiasedSampleVar(5,i)) |>mean|>println\n",
    "end\n"
   ]
  },
  {
   "cell_type": "code",
   "execution_count": 4,
   "metadata": {},
   "outputs": [
    {
     "name": "stdout",
     "output_type": "stream",
     "text": [
      "0.0\n",
      "0.8\n",
      "1.051142216570546\n",
      "1.160727480964246\n",
      "1.220082779063528\n",
      "1.2570091145131863\n",
      "1.28214792720429\n"
     ]
    },
    {
     "name": "stdout",
     "output_type": "stream",
     "text": [
      "1.3003528582802548\n"
     ]
    },
    {
     "name": "stdout",
     "output_type": "stream",
     "text": [
      "1.3141406190845255\n"
     ]
    },
    {
     "name": "stdout",
     "output_type": "stream",
     "text": [
      "1.3249438223097685\n"
     ]
    }
   ],
   "source": [
    "using Combinatorics #順列・組み合わせのパッケージ\n",
    "using Distributions #統計のパッケージ\n",
    "\n",
    "function BiasedSampleVar(m,n)\n",
    "    A = [i for i=1:m]\n",
    "    X = repeat(A,inner=[n])\n",
    "    Y = collect(multiset_permutations(X, n))\n",
    "    L = length(Y)\n",
    "    X̂ = [sum(y)/n for y in Y] #それそれの標本平均\n",
    "    \n",
    "    # Zのサイズを事前に計算して、動的なメモリアロケーションを避ける\n",
    "    Z = Vector{Float64}(undef, L)\n",
    "    \n",
    "    for i=1:L\n",
    "        Z[i] = sum((Y[i][j] - X̂[i])^2/n for j=1:n) # S²\n",
    "    end\n",
    "    return Z \n",
    "end\n",
    "\n",
    "for i=1:10\n",
    "    map(sqrt,BiasedSampleVar(5,i)) |> mean |> println\n",
    "end\n"
   ]
  },
  {
   "cell_type": "code",
   "execution_count": 5,
   "metadata": {},
   "outputs": [
    {
     "name": "stdout",
     "output_type": "stream",
     "text": [
      "0.0\n",
      "0.8\n",
      "1.051142216570546\n",
      "1.160727480964246\n",
      "1.220082779063528\n",
      "1.2570091145131863\n",
      "1.28214792720429\n"
     ]
    },
    {
     "name": "stdout",
     "output_type": "stream",
     "text": [
      "1.3003528582802548\n"
     ]
    },
    {
     "name": "stdout",
     "output_type": "stream",
     "text": [
      "1.3141406190845255\n"
     ]
    },
    {
     "name": "stdout",
     "output_type": "stream",
     "text": [
      "1.3249438223097685\n"
     ]
    }
   ],
   "source": [
    "for i=1:10\n",
    "    map(sqrt,BiasedSampleVar(5,i)) |> mean |> println\n",
    "end"
   ]
  },
  {
   "cell_type": "code",
   "execution_count": 20,
   "metadata": {},
   "outputs": [
    {
     "data": {
      "text/plain": [
       "8-element Vector{Vector{Int64}}:\n",
       " []\n",
       " [1]\n",
       " [2]\n",
       " [3]\n",
       " [1, 2]\n",
       " [1, 3]\n",
       " [2, 3]\n",
       " [1, 2, 3]"
      ]
     },
     "metadata": {},
     "output_type": "display_data"
    }
   ],
   "source": [
    "powerset([1,2,3],0,3)|>collect"
   ]
  },
  {
   "cell_type": "code",
   "execution_count": 23,
   "metadata": {},
   "outputs": [
    {
     "data": {
      "text/plain": [
       "20-element Vector{Any}:\n",
       " [3, 0, 0, 0]\n",
       " [2, 1, 0, 0]\n",
       " [2, 0, 1, 0]\n",
       " [2, 0, 0, 1]\n",
       " [1, 2, 0, 0]\n",
       " [1, 1, 1, 0]\n",
       " [1, 1, 0, 1]\n",
       " [1, 0, 2, 0]\n",
       " [1, 0, 1, 1]\n",
       " [1, 0, 0, 2]\n",
       " [0, 3, 0, 0]\n",
       " [0, 2, 1, 0]\n",
       " [0, 2, 0, 1]\n",
       " [0, 1, 2, 0]\n",
       " [0, 1, 1, 1]\n",
       " [0, 1, 0, 2]\n",
       " [0, 0, 3, 0]\n",
       " [0, 0, 2, 1]\n",
       " [0, 0, 1, 2]\n",
       " [0, 0, 0, 3]"
      ]
     },
     "metadata": {},
     "output_type": "display_data"
    }
   ],
   "source": [
    "multiexponents(4, 3)|>collect"
   ]
  },
  {
   "cell_type": "code",
   "execution_count": 11,
   "metadata": {},
   "outputs": [
    {
     "ename": "MethodError",
     "evalue": "MethodError: no method matching length(::typeof(sum))\n\nClosest candidates are:\n  length(!Matched::Union{Base.KeySet, Base.ValueIterator})\n   @ Base abstractdict.jl:58\n  length(!Matched::Union{LinearAlgebra.Adjoint{T, S}, LinearAlgebra.Transpose{T, S}} where {T, S})\n   @ LinearAlgebra ~/.julia/juliaup/julia-1.9.2+0.aarch64.apple.darwin14/share/julia/stdlib/v1.9/LinearAlgebra/src/adjtrans.jl:295\n  length(!Matched::Union{SparseArrays.FixedSparseVector{Tv, Ti}, SparseArrays.SparseVector{Tv, Ti}} where {Tv, Ti})\n   @ SparseArrays ~/.julia/juliaup/julia-1.9.2+0.aarch64.apple.darwin14/share/julia/stdlib/v1.9/SparseArrays/src/sparsevector.jl:95\n  ...\n",
     "output_type": "error",
     "traceback": [
      "MethodError: no method matching length(::typeof(sum))\n",
      "\n",
      "Closest candidates are:\n",
      "  length(!Matched::Union{Base.KeySet, Base.ValueIterator})\n",
      "   @ Base abstractdict.jl:58\n",
      "  length(!Matched::Union{LinearAlgebra.Adjoint{T, S}, LinearAlgebra.Transpose{T, S}} where {T, S})\n",
      "   @ LinearAlgebra ~/.julia/juliaup/julia-1.9.2+0.aarch64.apple.darwin14/share/julia/stdlib/v1.9/LinearAlgebra/src/adjtrans.jl:295\n",
      "  length(!Matched::Union{SparseArrays.FixedSparseVector{Tv, Ti}, SparseArrays.SparseVector{Tv, Ti}} where {Tv, Ti})\n",
      "   @ SparseArrays ~/.julia/juliaup/julia-1.9.2+0.aarch64.apple.darwin14/share/julia/stdlib/v1.9/SparseArrays/src/sparsevector.jl:95\n",
      "  ...\n",
      "\n",
      "\n",
      "Stacktrace:\n",
      " [1] length(g::Base.Generator{typeof(sum), Combinatorics.MultiSetPermutations{Vector{Int64}}})\n",
      "   @ Base ./generator.jl:50\n",
      " [2] _similar_shape(itr::Base.Generator{typeof(sum), Combinatorics.MultiSetPermutations{Vector{Int64}}}, #unused#::Base.HasLength)\n",
      "   @ Base ./array.jl:658\n",
      " [3] collect(itr::Base.Generator{typeof(sum), Combinatorics.MultiSetPermutations{Vector{Int64}}})\n",
      "   @ Base ./array.jl:781\n",
      " [4] map(f::Combinatorics.MultiSetPermutations{Vector{Int64}}, A::Function)\n",
      "   @ Base ./abstractarray.jl:3289\n",
      " [5] (::var\"#19#20\")(x::Combinatorics.MultiSetPermutations{Vector{Int64}})\n",
      "   @ Main ~/Documents/Teaching_materials/2023/20230810mathB/821.ipynb:1\n",
      " [6] |>(x::Combinatorics.MultiSetPermutations{Vector{Int64}}, f::var\"#19#20\")\n",
      "   @ Base ./operators.jl:907\n",
      " [7] top-level scope\n",
      "   @ ~/Documents/Teaching_materials/2023/20230810mathB/821.ipynb:1"
     ]
    }
   ],
   "source": [
    "multiset_permutations([1,2,3,4],3)|>x->map(x,sum)"
   ]
  },
  {
   "cell_type": "code",
   "execution_count": 5,
   "metadata": {},
   "outputs": [
    {
     "data": {
      "text/plain": [
       "15625"
      ]
     },
     "metadata": {},
     "output_type": "display_data"
    }
   ],
   "source": [
    "5^6"
   ]
  },
  {
   "cell_type": "code",
   "execution_count": 7,
   "metadata": {},
   "outputs": [
    {
     "name": "stdout",
     "output_type": "stream",
     "text": [
      "0.0\n",
      "1.0\n",
      "1.3333333333333333\n",
      "1.5\n",
      "1.5999999999999994\n",
      "1.6666666666666687\n",
      "1.7142857142857142\n"
     ]
    },
    {
     "name": "stdout",
     "output_type": "stream",
     "text": [
      "1.75\n"
     ]
    },
    {
     "name": "stdout",
     "output_type": "stream",
     "text": [
      "1.7777777777777772\n"
     ]
    },
    {
     "name": "stdout",
     "output_type": "stream",
     "text": [
      "1.8\n"
     ]
    }
   ],
   "source": [
    "\n",
    "for i=1:10\n",
    "    BiasedSampleVar(5,i) |>mean|>println\n",
    "end"
   ]
  },
  {
   "cell_type": "code",
   "execution_count": 123,
   "metadata": {},
   "outputs": [
    {
     "data": {
      "text/markdown": [
       "| 母標準偏差1.4142135623730951 |  標本標準偏差の平均$E(S)$   |\n",
       "|:-----------------------:|:------------------:|\n",
       "|          $n=1$          |        0.0         |\n",
       "|          $n=2$          |        0.8         |\n",
       "|          $n=3$          | 1.051142216570546  |\n",
       "|          $n=4$          | 1.160727480964246  |\n",
       "|          $n=5$          | 1.220082779063528  |\n",
       "|          $n=6$          | 1.2570091145131863 |\n",
       "|          $n=7$          |  1.28214792720429  |\n",
       "|          $n=8$          | 1.3003528582802548 |\n",
       "|          $n=9$          | 1.3141406190845255 |\n",
       "|         $n=10$          | 1.3249438223097685 |\n"
      ],
      "text/plain": [
       "  母標準偏差1.4142135623730951   標本標準偏差の平均\u001b[35mE(S)\u001b[39m   \n",
       "  ––––––––––––––––––––––– ––––––––––––––––––\n",
       "            \u001b[35mn=1\u001b[39m                  0.0        \n",
       "            \u001b[35mn=2\u001b[39m                  0.8        \n",
       "            \u001b[35mn=3\u001b[39m           1.051142216570546 \n",
       "            \u001b[35mn=4\u001b[39m           1.160727480964246 \n",
       "            \u001b[35mn=5\u001b[39m           1.220082779063528 \n",
       "            \u001b[35mn=6\u001b[39m           1.2570091145131863\n",
       "            \u001b[35mn=7\u001b[39m            1.28214792720429 \n",
       "            \u001b[35mn=8\u001b[39m           1.3003528582802548\n",
       "            \u001b[35mn=9\u001b[39m           1.3141406190845255\n",
       "           \u001b[35mn=10\u001b[39m           1.3249438223097685"
      ]
     },
     "metadata": {},
     "output_type": "display_data"
    }
   ],
   "source": [
    "md\"\"\"\n",
    "\n",
    "|母標準偏差$(std([1,2,3,4,5],corrected=false))|標本標準偏差の平均$E(S)$|\n",
    "|:---:|:---:|\n",
    "|$n=1$ |$(mean(map(sqrt,BiasedSampleVar(5,1))))|\n",
    "|$n=2$ |$(mean(map(sqrt,BiasedSampleVar(5,2))))|\n",
    "|$n=3$ |$(mean(map(sqrt,BiasedSampleVar(5,3))))|\n",
    "|$n=4$ |$(mean(map(sqrt,BiasedSampleVar(5,4))))|\n",
    "|$n=5$ |$(mean(map(sqrt,BiasedSampleVar(5,5))))|\n",
    "|$n=6$ |$(mean(map(sqrt,BiasedSampleVar(5,6))))|\n",
    "|$n=7$ |$(mean(map(sqrt,BiasedSampleVar(5,7))))|\n",
    "|$n=8$ |$(mean(map(sqrt,BiasedSampleVar(5,8))))|\n",
    "|$n=9$ |$(mean(map(sqrt,BiasedSampleVar(5,9))))|\n",
    "|$n=10$ |$(mean(map(sqrt,BiasedSampleVar(5,10))))|\n",
    "\n",
    "\n",
    "\"\"\""
   ]
  },
  {
   "cell_type": "code",
   "execution_count": null,
   "metadata": {},
   "outputs": [],
   "source": [
    "using Combinatorics #順列・組み合わせのパッケージ\n",
    "using Distributions #統計のパッケージ\n",
    "\n",
    "function  BiasedSampleVar2(m,n)\n",
    "\n",
    "    MIN = n\n",
    "    MAX = m*n\n",
    "    X = []\n",
    "    Y = []\n",
    "    for i=MIN:MAX\n",
    "        partitions(i,n)*i\n",
    "    A = [i for i=1:m]\n",
    "    X = repeat(A,inner=[n])\n",
    "    Y = collect(multiset_permutations(X, n))\n",
    "    L = length(Y)\n",
    "    X̂ = [sum(Y[i])/n for i=1:L] #それそれの標本平均\n",
    "    Z=[]\n",
    "    for i=1:L\n",
    "         append!(Z,sum((Y[i][j]- X̂[i])^2/n for j=1:n)) # S²\n",
    "    end\n",
    "    return Z \n",
    "end\n",
    "\n",
    "for i=1:10\n",
    "    map(sqrt,BiasedSampleVar(5,i)) |>mean|>println\n",
    "end"
   ]
  },
  {
   "cell_type": "code",
   "execution_count": 6,
   "metadata": {},
   "outputs": [
    {
     "data": {
      "text/plain": [
       "10474462"
      ]
     },
     "metadata": {},
     "output_type": "display_data"
    }
   ],
   "source": [
    "partitions(100,20) |> length"
   ]
  },
  {
   "cell_type": "code",
   "execution_count": 26,
   "metadata": {},
   "outputs": [
    {
     "data": {
      "text/latex": [
       "$x+\\frac{2 \\tanh ^{-1}\\left(\\sqrt{3} \\tan (x)\\right)}{\\sqrt{3}}$"
      ],
      "text/plain": [
       "W\"Integrate\"(W\"Times\"(W\"Tan\"(W\"Times\"(3, W\"x\")), W\"Power\"(W\"Tan\"(W\"x\"), -1)), W\"x\")"
      ]
     },
     "metadata": {},
     "output_type": "display_data"
    }
   ],
   "source": [
    "using MathLink\n",
    "\n",
    "W`Integrate[Tan[3 x]/Tan[x],x]`"
   ]
  },
  {
   "cell_type": "code",
   "execution_count": null,
   "metadata": {},
   "outputs": [],
   "source": []
  }
 ],
 "metadata": {
  "kernelspec": {
   "display_name": "Julia 1.9.3",
   "language": "julia",
   "name": "julia-1.9"
  },
  "language_info": {
   "file_extension": ".jl",
   "mimetype": "application/julia",
   "name": "julia",
   "version": "1.9.3"
  },
  "orig_nbformat": 4
 },
 "nbformat": 4,
 "nbformat_minor": 2
}
